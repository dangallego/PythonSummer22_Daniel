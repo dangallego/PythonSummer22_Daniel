{
 "cells": [
  {
   "cell_type": "markdown",
   "id": "8077feb6",
   "metadata": {},
   "source": [
    "## Opening and reading different file types\n",
    "\n",
    "Python allows us to read and write to different file types such as .txt, .csv, FITs.\n",
    "\n",
    "Lets start by reading and writing to .txt files\n",
    "\n",
    "Python includes the `open()` function, it has different paramenters:\n",
    "- 'r' read, opens the file, return an error if not found.\n",
    "- 'a' append, open the file to write at the end of the file, it will not overwrite.\n",
    "- 'w' write, writes over the existing file, create a new file if not found.\n",
    "- 'x' create, creates a new file, returns an error if not found.\n",
    "\n",
    "Included with this lesson there is a .txt file named 'planetary_data.txt', we will use this file for our example."
   ]
  },
  {
   "cell_type": "code",
   "execution_count": 1,
   "id": "b1ee9515",
   "metadata": {},
   "outputs": [],
   "source": [
    "data = open('planetary_data.txt')"
   ]
  },
  {
   "cell_type": "code",
   "execution_count": 2,
   "id": "e4d5fcb4",
   "metadata": {},
   "outputs": [
    {
     "data": {
      "text/plain": [
       "<_io.TextIOWrapper name='planetary_data.txt' mode='r' encoding='UTF-8'>"
      ]
     },
     "execution_count": 2,
     "metadata": {},
     "output_type": "execute_result"
    }
   ],
   "source": [
    "# Object wrapper\n",
    "data"
   ]
  },
  {
   "cell_type": "code",
   "execution_count": 3,
   "id": "59cc6f05",
   "metadata": {},
   "outputs": [
    {
     "data": {
      "text/plain": [
       "\"Mercury,\\tVenus,\\tEarth,\\tMars,\\tJupiter\\t\\nMean distance from Sun (millions of kilometers),\\t57.9,\\t108.2,\\t149.6,\\t227.9,\\t778.3\\n\\t\\t\\t\\t\\t\\nMean distance from Sun\\t36\\t67.24\\t92.9\\t141.71\\t483.88\\t\\t\\t\\t\\t\\t\\nPeriod of revolution\\t88 days\\t224.7 days\\t365.2 days\\t687 days\\t11.86 yrs\\nInclination of axis\\tNear 0°\\t3°\\t23°27'\\t25° 12'\\t3° 5'\\nInclination of orbit\\t7°\\t3.4°\\t0°\\t1.9°\\t1.3°\\t\\t\\t\\t\\t\\nEccentricity of orbit\\t0.206\\t0.007\\t0.017\\t0.093\\t0.048\\nEquatorial diameter\\t4.880,\\t12.100,\\t12.756,\\t6.794,\\t142.800\\t\\t\\t\\t\\t\\nAtmosphere (main components),\\tVirtually none,\\tCarbon dioxideNitrogenOxygen\\tCarbon dioxide,\\tHydrogen, helium\\t\""
      ]
     },
     "execution_count": 3,
     "metadata": {},
     "output_type": "execute_result"
    }
   ],
   "source": [
    "data.read()"
   ]
  },
  {
   "cell_type": "code",
   "execution_count": 4,
   "id": "b69bda47",
   "metadata": {},
   "outputs": [
    {
     "data": {
      "text/plain": [
       "'Mercury,\\tV'"
      ]
     },
     "execution_count": 4,
     "metadata": {},
     "output_type": "execute_result"
    }
   ],
   "source": [
    "# Read the first 10 characters\n",
    "data = open('planetary_data.txt')\n",
    "data.read(10)"
   ]
  },
  {
   "cell_type": "code",
   "execution_count": 5,
   "id": "1615526d",
   "metadata": {},
   "outputs": [
    {
     "data": {
      "text/plain": [
       "'Mercury,\\tVenus,\\tEarth,\\tMars,\\tJupiter\\t\\n'"
      ]
     },
     "execution_count": 5,
     "metadata": {},
     "output_type": "execute_result"
    }
   ],
   "source": [
    "# Read a line\n",
    "data = open('planetary_data.txt')\n",
    "data.readline()"
   ]
  },
  {
   "cell_type": "code",
   "execution_count": 6,
   "id": "e7f6ddb7",
   "metadata": {},
   "outputs": [
    {
     "name": "stdout",
     "output_type": "stream",
     "text": [
      "Mercury,\tVenus,\tEarth,\tMars,\tJupiter\t\n",
      "\n",
      "Mean distance from Sun (millions of kilometers),\t57.9,\t108.2,\t149.6,\t227.9,\t778.3\n",
      "\n",
      "\t\t\t\t\t\n",
      "\n",
      "Mean distance from Sun\t36\t67.24\t92.9\t141.71\t483.88\t\t\t\t\t\t\n",
      "\n",
      "Period of revolution\t88 days\t224.7 days\t365.2 days\t687 days\t11.86 yrs\n",
      "\n",
      "Inclination of axis\tNear 0°\t3°\t23°27'\t25° 12'\t3° 5'\n",
      "\n",
      "Inclination of orbit\t7°\t3.4°\t0°\t1.9°\t1.3°\t\t\t\t\t\n",
      "\n",
      "Eccentricity of orbit\t0.206\t0.007\t0.017\t0.093\t0.048\n",
      "\n",
      "Equatorial diameter\t4.880,\t12.100,\t12.756,\t6.794,\t142.800\t\t\t\t\t\n",
      "\n",
      "Atmosphere (main components),\tVirtually none,\tCarbon dioxideNitrogenOxygen\tCarbon dioxide,\tHydrogen, helium\t\n"
     ]
    }
   ],
   "source": [
    "# Read line by line\n",
    "data = open('planetary_data.txt')\n",
    "for x in data:\n",
    "    print(x)"
   ]
  },
  {
   "cell_type": "code",
   "execution_count": 7,
   "id": "1fac3da3",
   "metadata": {},
   "outputs": [],
   "source": [
    "# Close the reference to the object\n",
    "data.close()"
   ]
  },
  {
   "cell_type": "markdown",
   "id": "a8754955",
   "metadata": {},
   "source": [
    "Lets open a second txt file, which does not include so much text. Open the file called `planetary_data_2.txt`"
   ]
  },
  {
   "cell_type": "code",
   "execution_count": 40,
   "id": "ec9b7adb",
   "metadata": {},
   "outputs": [
    {
     "data": {
      "text/plain": [
       "'Body, Radius (km), Mass (10e21 kg), Density (g/cm3), Gravity (m/s2)\\nMercury, 2439.4, 60.83, 330.11, 5.4291, 3.70\\nVenus,\\t6052, 928.43, 4867.5, 5.243, 8.87\\nEarth,\\t6371.0084, 1083.21, 5972.4, 5.5136, 9.8\\t\\nMars, 3389.5, 163.18, 641.71, 3.9341, 3.71\\nJupiter, 69911, 1431280, 1898187, 1.3262, 24.79'"
      ]
     },
     "execution_count": 40,
     "metadata": {},
     "output_type": "execute_result"
    }
   ],
   "source": [
    "# Open our second txt file\n",
    "planets = open('planetary_data_2.txt')\n",
    "planets.read()"
   ]
  },
  {
   "cell_type": "markdown",
   "id": "ff29c736",
   "metadata": {},
   "source": [
    "Let try to split the radii of planets using the `line.split()` method, this will split or separate our data where an occurrence of a string is found, in this case we will use a comma to split our characters."
   ]
  },
  {
   "cell_type": "code",
   "execution_count": 9,
   "id": "17de6a9d",
   "metadata": {},
   "outputs": [
    {
     "name": "stdout",
     "output_type": "stream",
     "text": [
      "['Body', ' Radius (km)', ' Mass (10e21 kg)', ' Density (g/cm3)', ' Gravity (m/s2)\\n']\n",
      "Body, Radius (km), Mass (10e21 kg), Density (g/cm3), Gravity (m/s2)\n",
      "['Mercury', ' 2439.4', ' 60.83', ' 330.11', ' 5.4291', ' 3.70\\n']\n",
      "Mercury, 2439.4, 60.83, 330.11, 5.4291, 3.70\n",
      "['Venus', '\\t6052', ' 928.43', ' 4867.5', ' 5.243', ' 8.87\\n']\n",
      "Venus,\t6052, 928.43, 4867.5, 5.243, 8.87\n",
      "['Earth', '\\t6371.0084', ' 1083.21', ' 5972.4', ' 5.5136', ' 9.8\\t\\n']\n",
      "Earth,\t6371.0084, 1083.21, 5972.4, 5.5136, 9.8\n",
      "['Mars', ' 3389.5', ' 163.18', ' 641.71', ' 3.9341', ' 3.71\\n']\n",
      "Mars, 3389.5, 163.18, 641.71, 3.9341, 3.71\n",
      "['Jupiter', ' 69911', ' 1431280', ' 1898187', ' 1.3262', ' 24.79']\n",
      "Jupiter, 69911, 1431280, 1898187, 1.3262, 24.79\n"
     ]
    }
   ],
   "source": [
    "bodies = []\n",
    "radii = []\n",
    "\n",
    "planets = open('planetary_data_2.txt')\n",
    "\n",
    "for line in planets:\n",
    "    splitLine = line.split(',')\n",
    "    print(splitLine) # print the splitted line\n",
    "    print(line.strip()) # print the stripped line as String\n",
    "    bodies.append(splitLine[0])\n",
    "    radii.append(splitLine[1])\n",
    "#bodies"
   ]
  },
  {
   "cell_type": "code",
   "execution_count": 10,
   "id": "a0e6f0be",
   "metadata": {},
   "outputs": [
    {
     "data": {
      "text/plain": [
       "['Body', 'Mercury', 'Venus', 'Earth', 'Mars', 'Jupiter']"
      ]
     },
     "execution_count": 10,
     "metadata": {},
     "output_type": "execute_result"
    }
   ],
   "source": [
    "bodies"
   ]
  },
  {
   "cell_type": "code",
   "execution_count": 11,
   "id": "6371a7c4",
   "metadata": {},
   "outputs": [
    {
     "data": {
      "text/plain": [
       "[' Radius (km)', ' 2439.4', '\\t6052', '\\t6371.0084', ' 3389.5', ' 69911']"
      ]
     },
     "execution_count": 11,
     "metadata": {},
     "output_type": "execute_result"
    }
   ],
   "source": [
    "radii"
   ]
  },
  {
   "cell_type": "markdown",
   "id": "0feaa69e",
   "metadata": {},
   "source": [
    "### Short exercise\n",
    "Add all the masses from the planets found in the file planetary_data_2.txt. You can use a for loop similar to the code above."
   ]
  },
  {
   "cell_type": "code",
   "execution_count": 13,
   "id": "8ee157fd",
   "metadata": {},
   "outputs": [
    {
     "name": "stdout",
     "output_type": "stream",
     "text": [
      "['Body', ' Radius (km)', ' Mass (10e21 kg)', ' Density (g/cm3)', ' Gravity (m/s2)\\n']\n",
      "Body, Radius (km), Mass (10e21 kg), Density (g/cm3), Gravity (m/s2)\n",
      "['Mercury', ' 2439.4', ' 60.83', ' 330.11', ' 5.4291', ' 3.70\\n']\n",
      "Mercury, 2439.4, 60.83, 330.11, 5.4291, 3.70\n",
      "['Venus', '\\t6052', ' 928.43', ' 4867.5', ' 5.243', ' 8.87\\n']\n",
      "Venus,\t6052, 928.43, 4867.5, 5.243, 8.87\n",
      "['Earth', '\\t6371.0084', ' 1083.21', ' 5972.4', ' 5.5136', ' 9.8\\t\\n']\n",
      "Earth,\t6371.0084, 1083.21, 5972.4, 5.5136, 9.8\n",
      "['Mars', ' 3389.5', ' 163.18', ' 641.71', ' 3.9341', ' 3.71\\n']\n",
      "Mars, 3389.5, 163.18, 641.71, 3.9341, 3.71\n",
      "['Jupiter', ' 69911', ' 1431280', ' 1898187', ' 1.3262', ' 24.79']\n",
      "Jupiter, 69911, 1431280, 1898187, 1.3262, 24.79\n"
     ]
    },
    {
     "data": {
      "text/plain": [
       "[' Mass (10e21 kg)', ' 60.83', ' 928.43', ' 1083.21', ' 163.18', ' 1431280']"
      ]
     },
     "execution_count": 13,
     "metadata": {},
     "output_type": "execute_result"
    }
   ],
   "source": [
    "masses = []\n",
    "\n",
    "planets = open('planetary_data_2.txt')\n",
    "\n",
    "for line in planets:\n",
    "    splitLine = line.split(',')\n",
    "    print(splitLine) # print the splitted line\n",
    "    print(line.strip()) # print the stripped line as String\n",
    "    masses.append(splitLine[2])\n",
    "    \n",
    "masses"
   ]
  },
  {
   "cell_type": "markdown",
   "id": "fcffc6db",
   "metadata": {},
   "source": [
    "### Short exercise 2\n",
    "\n",
    "- Read the data from planetary_data_2.txt, split the data by planet. Create a new list for every planet and add it to a nested list called `list_planets`. This list contains a list of all the planets and its data.\n",
    "- Write a script that gets an integer number from the user using `input()`.\n",
    "- Return one of the planets from the list, where the index number is the number entered by the user."
   ]
  },
  {
   "cell_type": "code",
   "execution_count": 45,
   "id": "92ac75ef",
   "metadata": {},
   "outputs": [
    {
     "data": {
      "text/plain": [
       "'Body, Radius (km), Mass (10e21 kg), Density (g/cm3), Gravity (m/s2)\\nMercury, 2439.4, 60.83, 330.11, 5.4291, 3.70\\nVenus,\\t6052, 928.43, 4867.5, 5.243, 8.87\\nEarth,\\t6371.0084, 1083.21, 5972.4, 5.5136, 9.8\\t\\nMars, 3389.5, 163.18, 641.71, 3.9341, 3.71\\nJupiter, 69911, 1431280, 1898187, 1.3262, 24.79'"
      ]
     },
     "execution_count": 45,
     "metadata": {},
     "output_type": "execute_result"
    }
   ],
   "source": [
    "planets = open('planetary_data_2.txt')\n",
    "planets.read()"
   ]
  },
  {
   "cell_type": "code",
   "execution_count": 29,
   "id": "ab607738",
   "metadata": {},
   "outputs": [
    {
     "name": "stdout",
     "output_type": "stream",
     "text": [
      "Body, Radius (km), Mass (10e21 kg), Density (g/cm3), Gravity (m/s2)\n",
      "\n",
      "Mercury, 2439.4, 60.83, 330.11, 5.4291, 3.70\n",
      "\n",
      "Venus,\t6052, 928.43, 4867.5, 5.243, 8.87\n",
      "\n",
      "Earth,\t6371.0084, 1083.21, 5972.4, 5.5136, 9.8\t\n",
      "\n",
      "Mars, 3389.5, 163.18, 641.71, 3.9341, 3.71\n",
      "\n",
      "Jupiter, 69911, 1431280, 1898187, 1.3262, 24.79\n"
     ]
    }
   ],
   "source": [
    "planets = open('planetary_data_2.txt')\n",
    "\n",
    "for x in planets:\n",
    "    print(x)"
   ]
  },
  {
   "cell_type": "code",
   "execution_count": 59,
   "id": "31dd82dd",
   "metadata": {},
   "outputs": [
    {
     "name": "stdout",
     "output_type": "stream",
     "text": [
      "Body, Radius (km), Mass (10e21 kg), Density (g/cm3), Gravity (m/s2)\n",
      "Mercury, 2439.4, 60.83, 330.11, 5.4291, 3.70\n",
      "Venus,\t6052, 928.43, 4867.5, 5.243, 8.87\n",
      "Earth,\t6371.0084, 1083.21, 5972.4, 5.5136, 9.8\n",
      "Mars, 3389.5, 163.18, 641.71, 3.9341, 3.71\n",
      "Jupiter, 69911, 1431280, 1898187, 1.3262, 24.79\n"
     ]
    }
   ],
   "source": [
    "list_planets = []\n",
    "\n",
    "planets = open('planetary_data_2.txt')\n",
    "\n",
    "for line in planets:\n",
    "    splitLine = line.split(',')\n",
    "    #print(splitLine) # print the splitted line\n",
    "    #print(line.strip()) # print the stripped line as String\n",
    "    print(line.strip())\n",
    "    \n",
    "    \n",
    "#print(list_planets)\n",
    "\n",
    "#user_input = int(input())"
   ]
  },
  {
   "cell_type": "markdown",
   "id": "1053579d",
   "metadata": {},
   "source": [
    "# Writing to an existing file\n",
    "We can use the `a` and `w` option to append and write"
   ]
  },
  {
   "cell_type": "markdown",
   "id": "76bbe913",
   "metadata": {},
   "source": [
    "# dat = open('append.txt', 'a')\n",
    "dat.write('Appending this to the end')\n",
    "dat.close()\n",
    "# Go check your append.txt file after this is run\n",
    "# Remember to close your file if you manually open it"
   ]
  },
  {
   "cell_type": "code",
   "execution_count": 4,
   "id": "18532953",
   "metadata": {},
   "outputs": [
    {
     "data": {
      "text/plain": [
       "'Sobreescribir contenidosAppending this to the endAppending this to the end'"
      ]
     },
     "execution_count": 4,
     "metadata": {},
     "output_type": "execute_result"
    }
   ],
   "source": [
    "dat = open('append.txt', 'r')\n",
    "dat.read()"
   ]
  },
  {
   "cell_type": "code",
   "execution_count": 5,
   "id": "6a21ca31",
   "metadata": {},
   "outputs": [
    {
     "data": {
      "text/plain": [
       "18"
      ]
     },
     "execution_count": 5,
     "metadata": {},
     "output_type": "execute_result"
    }
   ],
   "source": [
    "# Overwrites the current file\n",
    "datos = open('append.txt', 'w')\n",
    "datos.write('Overwrite contents')"
   ]
  },
  {
   "cell_type": "code",
   "execution_count": 6,
   "id": "e95841e8",
   "metadata": {},
   "outputs": [
    {
     "data": {
      "text/plain": [
       "'Overwrite contents'"
      ]
     },
     "execution_count": 6,
     "metadata": {},
     "output_type": "execute_result"
    }
   ],
   "source": [
    "datos = open('append.txt', 'r')\n",
    "datos.read()"
   ]
  },
  {
   "cell_type": "code",
   "execution_count": 7,
   "id": "ea17c091",
   "metadata": {},
   "outputs": [],
   "source": [
    "datos.close()"
   ]
  },
  {
   "cell_type": "markdown",
   "id": "893f33dd",
   "metadata": {},
   "source": [
    "### Short exercise\n",
    "Create a script that writes numbers from 1 to 100, line by line to a text file."
   ]
  },
  {
   "cell_type": "markdown",
   "id": "3c908159",
   "metadata": {},
   "source": [
    "## Working with CSV files\n",
    "The so-called CSV (Comma Separated Values) format is the most common import and export format for spreadsheets and databases.\n",
    "\n",
    "We can use Python without any modules to read CSV files, first we need to import the `csv` module using the `import` keyword"
   ]
  },
  {
   "cell_type": "code",
   "execution_count": 31,
   "id": "e959b692",
   "metadata": {},
   "outputs": [
    {
     "name": "stdout",
     "output_type": "stream",
     "text": [
      "name,mfr,type,calories,protein,fat,sodium,fiber,carbo,sugars,potass,vitamins,shelf,weight,cups,rating\n",
      "100%, Bran,N,C,70,4,1,130,10,5,6,280,25,3,1,0.33,68.402973\n",
      "100%, Natural, Bran,Q,C,120,3,5,15,2,8,8,135,0,3,1,1,33.983679\n",
      "All-Bran,K,C,70,4,1,260,9,7,5,320,25,3,1,0.33,59.425505\n",
      "All-Bran, with, Extra, Fiber,K,C,50,4,0,140,14,8,0,330,25,3,1,0.5,93.704912\n",
      "Almond, Delight,R,C,110,2,2,200,1,14,8,-1,25,3,1,0.75,34.384843\n",
      "Apple, Cinnamon, Cheerios,G,C,110,2,2,180,1.5,10.5,10,70,25,1,1,0.75,29.509541\n",
      "Apple, Jacks,K,C,110,2,0,125,1,11,14,30,25,2,1,1,33.174094\n",
      "Basic, 4,G,C,130,3,2,210,2,18,8,100,25,3,1.33,0.75,37.038562\n",
      "Bran, Chex,R,C,90,2,1,200,4,15,6,125,25,1,1,0.67,49.120253\n",
      "Bran, Flakes,P,C,90,3,0,210,5,13,5,190,25,3,1,0.67,53.313813\n",
      "Cap'n'Crunch,Q,C,120,1,2,220,0,12,12,35,25,2,1,0.75,18.042851\n",
      "Cheerios,G,C,110,6,2,290,2,17,1,105,25,1,1,1.25,50.764999\n",
      "Cinnamon, Toast, Crunch,G,C,120,1,3,210,0,13,9,45,25,2,1,0.75,19.823573\n",
      "Clusters,G,C,110,3,2,140,2,13,7,105,25,3,1,0.5,40.400208\n",
      "Cocoa, Puffs,G,C,110,1,1,180,0,12,13,55,25,2,1,1,22.736446\n",
      "Corn, Chex,R,C,110,2,0,280,0,22,3,25,25,1,1,1,41.445019\n",
      "Corn, Flakes,K,C,100,2,0,290,1,21,2,35,25,1,1,1,45.863324\n",
      "Corn, Pops,K,C,110,1,0,90,1,13,12,20,25,2,1,1,35.782791\n",
      "Count, Chocula,G,C,110,1,1,180,0,12,13,65,25,2,1,1,22.396513\n",
      "Cracklin', Oat, Bran,K,C,110,3,3,140,4,10,7,160,25,3,1,0.5,40.448772\n",
      "Cream, of, Wheat, (Quick),N,H,100,3,0,80,1,21,0,-1,0,2,1,1,64.533816\n",
      "Crispix,K,C,110,2,0,220,1,21,3,30,25,3,1,1,46.895644\n",
      "Crispy, Wheat, &, Raisins,G,C,100,2,1,140,2,11,10,120,25,3,1,0.75,36.176196\n",
      "Double, Chex,R,C,100,2,0,190,1,18,5,80,25,3,1,0.75,44.330856\n",
      "Froot, Loops,K,C,110,2,1,125,1,11,13,30,25,2,1,1,32.207582\n",
      "Frosted, Flakes,K,C,110,1,0,200,1,14,11,25,25,1,1,0.75,31.435973\n",
      "Frosted, Mini-Wheats,K,C,100,3,0,0,3,14,7,100,25,2,1,0.8,58.345141\n",
      "Fruit, &, Fibre, Dates;, Walnuts;, and, Oats,P,C,120,3,2,160,5,12,10,200,25,3,1.25,0.67,40.917047\n",
      "Fruitful, Bran,K,C,120,3,0,240,5,14,12,190,25,3,1.33,0.67,41.015492\n",
      "Fruity, Pebbles,P,C,110,1,1,135,0,13,12,25,25,2,1,0.75,28.025765\n",
      "Golden, Crisp,P,C,100,2,0,45,0,11,15,40,25,1,1,0.88,35.252444\n",
      "Golden, Grahams,G,C,110,1,1,280,0,15,9,45,25,2,1,0.75,23.804043\n",
      "Grape, Nuts, Flakes,P,C,100,3,1,140,3,15,5,85,25,3,1,0.88,52.076897\n",
      "Grape-Nuts,P,C,110,3,0,170,3,17,3,90,25,3,1,0.25,53.371007\n",
      "Great, Grains, Pecan,P,C,120,3,3,75,3,13,4,100,25,3,1,0.33,45.811716\n",
      "Honey, Graham, Ohs,Q,C,120,1,2,220,1,12,11,45,25,2,1,1,21.871292\n",
      "Honey, Nut, Cheerios,G,C,110,3,1,250,1.5,11.5,10,90,25,1,1,0.75,31.072217\n",
      "Honey-comb,P,C,110,1,0,180,0,14,11,35,25,1,1,1.33,28.742414\n",
      "Just, Right, Crunchy, , Nuggets,K,C,110,2,1,170,1,17,6,60,100,3,1,1,36.523683\n",
      "Just, Right, Fruit, &, Nut,K,C,140,3,1,170,2,20,9,95,100,3,1.3,0.75,36.471512\n",
      "Kix,G,C,110,2,1,260,0,21,3,40,25,2,1,1.5,39.241114\n",
      "Life,Q,C,100,4,2,150,2,12,6,95,25,2,1,0.67,45.328074\n",
      "Lucky, Charms,G,C,110,2,1,180,0,12,12,55,25,2,1,1,26.734515\n",
      "Maypo,A,H,100,4,1,0,0,16,3,95,25,2,1,1,54.850917\n",
      "Muesli, Raisins;, Dates;, &, Almonds,R,C,150,4,3,95,3,16,11,170,25,3,1,1,37.136863\n",
      "Muesli, Raisins;, Peaches;, &, Pecans,R,C,150,4,3,150,3,16,11,170,25,3,1,1,34.139765\n",
      "Mueslix, Crispy, Blend,K,C,160,3,2,150,3,17,13,160,25,3,1.5,0.67,30.313351\n",
      "Multi-Grain, Cheerios,G,C,100,2,1,220,2,15,6,90,25,1,1,1,40.105965\n",
      "Nut&Honey, Crunch,K,C,120,2,1,190,0,15,9,40,25,2,1,0.67,29.924285\n",
      "Nutri-Grain, Almond-Raisin,K,C,140,3,2,220,3,21,7,130,25,3,1.33,0.67,40.692320\n",
      "Nutri-grain, Wheat,K,C,90,3,0,170,3,18,2,90,25,3,1,1,59.642837\n",
      "Oatmeal, Raisin, Crisp,G,C,130,3,2,170,1.5,13.5,10,120,25,3,1.25,0.5,30.450843\n",
      "Post, Nat., Raisin, Bran,P,C,120,3,1,200,6,11,14,260,25,3,1.33,0.67,37.840594\n",
      "Product, 19,K,C,100,3,0,320,1,20,3,45,100,3,1,1,41.503540\n",
      "Puffed, Rice,Q,C,50,1,0,0,0,13,0,15,0,3,0.5,1,60.756112\n",
      "Puffed, Wheat,Q,C,50,2,0,0,1,10,0,50,0,3,0.5,1,63.005645\n",
      "Quaker, Oat, Squares,Q,C,100,4,1,135,2,14,6,110,25,3,1,0.5,49.511874\n",
      "Quaker, Oatmeal,Q,H,100,5,2,0,2.7,-1,-1,110,0,1,1,0.67,50.828392\n",
      "Raisin, Bran,K,C,120,3,1,210,5,14,12,240,25,2,1.33,0.75,39.259197\n",
      "Raisin, Nut, Bran,G,C,100,3,2,140,2.5,10.5,8,140,25,3,1,0.5,39.703400\n",
      "Raisin, Squares,K,C,90,2,0,0,2,15,6,110,25,3,1,0.5,55.333142\n",
      "Rice, Chex,R,C,110,1,0,240,0,23,2,30,25,1,1,1.13,41.998933\n",
      "Rice, Krispies,K,C,110,2,0,290,0,22,3,35,25,1,1,1,40.560159\n",
      "Shredded, Wheat,N,C,80,2,0,0,3,16,0,95,0,1,0.83,1,68.235885\n",
      "Shredded, Wheat, 'n'Bran,N,C,90,3,0,0,4,19,0,140,0,1,1,0.67,74.472949\n",
      "Shredded, Wheat, spoon, size,N,C,90,3,0,0,3,20,0,120,0,1,1,0.67,72.801787\n",
      "Smacks,K,C,110,2,1,70,1,9,15,40,25,2,1,0.75,31.230054\n",
      "Special, K,K,C,110,6,0,230,1,16,3,55,25,1,1,1,53.131324\n",
      "Strawberry, Fruit, Wheats,N,C,90,2,0,15,3,15,5,90,25,2,1,1,59.363993\n",
      "Total, Corn, Flakes,G,C,110,2,1,200,0,21,3,35,100,3,1,1,38.839746\n",
      "Total, Raisin, Bran,G,C,140,3,1,190,4,15,14,230,100,3,1.5,1,28.592785\n",
      "Total, Whole, Grain,G,C,100,3,1,200,3,16,3,110,100,3,1,1,46.658844\n",
      "Triples,G,C,110,2,1,250,0,21,3,60,25,3,1,0.75,39.106174\n",
      "Trix,G,C,110,1,1,140,0,13,12,25,25,2,1,1,27.753301\n",
      "Wheat, Chex,R,C,100,3,1,230,3,17,3,115,25,1,1,0.67,49.787445\n",
      "Wheaties,G,C,100,3,1,200,3,17,3,110,25,1,1,1,51.592193\n",
      "Wheaties, Honey, Gold,G,C,110,2,1,200,1,16,8,60,25,1,1,0.75,36.187559\n"
     ]
    }
   ],
   "source": [
    "# Import the csv module\n",
    "import csv\n",
    "\n",
    "with open('cereal.csv', newline='') as csvfile:\n",
    "    read = csv.reader(csvfile, delimiter=' ')\n",
    "    for row in read:\n",
    "        print(', '.join(row))"
   ]
  },
  {
   "cell_type": "markdown",
   "id": "f0955fed",
   "metadata": {},
   "source": [
    "### Brief intro to Pandas\n",
    "The code above works, but for this course we will be using a module named Pandas to work with our CSV data. If you want to know more about the native csv module, check out [this link](https://docs.python.org/3/library/csv.html)\n",
    "\n",
    "Python is a library used for working with data. It can analyze, clean, explore and manipulate data. Pandas makes reading datasets very easy"
   ]
  },
  {
   "cell_type": "code",
   "execution_count": null,
   "id": "ca7db5e0",
   "metadata": {},
   "outputs": [],
   "source": [
    "# Run only once to install the Pandas library\n",
    "# Run this only if you have not added pandas via pip to your environment\n",
    "!pip install pandas"
   ]
  },
  {
   "cell_type": "code",
   "execution_count": 35,
   "id": "5e17a5a6",
   "metadata": {},
   "outputs": [
    {
     "data": {
      "text/html": [
       "<div>\n",
       "<style scoped>\n",
       "    .dataframe tbody tr th:only-of-type {\n",
       "        vertical-align: middle;\n",
       "    }\n",
       "\n",
       "    .dataframe tbody tr th {\n",
       "        vertical-align: top;\n",
       "    }\n",
       "\n",
       "    .dataframe thead th {\n",
       "        text-align: right;\n",
       "    }\n",
       "</style>\n",
       "<table border=\"1\" class=\"dataframe\">\n",
       "  <thead>\n",
       "    <tr style=\"text-align: right;\">\n",
       "      <th></th>\n",
       "      <th>name</th>\n",
       "      <th>mfr</th>\n",
       "      <th>type</th>\n",
       "      <th>calories</th>\n",
       "      <th>protein</th>\n",
       "      <th>fat</th>\n",
       "      <th>sodium</th>\n",
       "      <th>fiber</th>\n",
       "      <th>carbo</th>\n",
       "      <th>sugars</th>\n",
       "      <th>potass</th>\n",
       "      <th>vitamins</th>\n",
       "      <th>shelf</th>\n",
       "      <th>weight</th>\n",
       "      <th>cups</th>\n",
       "      <th>rating</th>\n",
       "    </tr>\n",
       "  </thead>\n",
       "  <tbody>\n",
       "    <tr>\n",
       "      <th>0</th>\n",
       "      <td>100% Bran</td>\n",
       "      <td>N</td>\n",
       "      <td>C</td>\n",
       "      <td>70</td>\n",
       "      <td>4</td>\n",
       "      <td>1</td>\n",
       "      <td>130</td>\n",
       "      <td>10.0</td>\n",
       "      <td>5.0</td>\n",
       "      <td>6</td>\n",
       "      <td>280</td>\n",
       "      <td>25</td>\n",
       "      <td>3</td>\n",
       "      <td>1.0</td>\n",
       "      <td>0.33</td>\n",
       "      <td>68.402973</td>\n",
       "    </tr>\n",
       "    <tr>\n",
       "      <th>1</th>\n",
       "      <td>100% Natural Bran</td>\n",
       "      <td>Q</td>\n",
       "      <td>C</td>\n",
       "      <td>120</td>\n",
       "      <td>3</td>\n",
       "      <td>5</td>\n",
       "      <td>15</td>\n",
       "      <td>2.0</td>\n",
       "      <td>8.0</td>\n",
       "      <td>8</td>\n",
       "      <td>135</td>\n",
       "      <td>0</td>\n",
       "      <td>3</td>\n",
       "      <td>1.0</td>\n",
       "      <td>1.00</td>\n",
       "      <td>33.983679</td>\n",
       "    </tr>\n",
       "    <tr>\n",
       "      <th>2</th>\n",
       "      <td>All-Bran</td>\n",
       "      <td>K</td>\n",
       "      <td>C</td>\n",
       "      <td>70</td>\n",
       "      <td>4</td>\n",
       "      <td>1</td>\n",
       "      <td>260</td>\n",
       "      <td>9.0</td>\n",
       "      <td>7.0</td>\n",
       "      <td>5</td>\n",
       "      <td>320</td>\n",
       "      <td>25</td>\n",
       "      <td>3</td>\n",
       "      <td>1.0</td>\n",
       "      <td>0.33</td>\n",
       "      <td>59.425505</td>\n",
       "    </tr>\n",
       "    <tr>\n",
       "      <th>3</th>\n",
       "      <td>All-Bran with Extra Fiber</td>\n",
       "      <td>K</td>\n",
       "      <td>C</td>\n",
       "      <td>50</td>\n",
       "      <td>4</td>\n",
       "      <td>0</td>\n",
       "      <td>140</td>\n",
       "      <td>14.0</td>\n",
       "      <td>8.0</td>\n",
       "      <td>0</td>\n",
       "      <td>330</td>\n",
       "      <td>25</td>\n",
       "      <td>3</td>\n",
       "      <td>1.0</td>\n",
       "      <td>0.50</td>\n",
       "      <td>93.704912</td>\n",
       "    </tr>\n",
       "    <tr>\n",
       "      <th>4</th>\n",
       "      <td>Almond Delight</td>\n",
       "      <td>R</td>\n",
       "      <td>C</td>\n",
       "      <td>110</td>\n",
       "      <td>2</td>\n",
       "      <td>2</td>\n",
       "      <td>200</td>\n",
       "      <td>1.0</td>\n",
       "      <td>14.0</td>\n",
       "      <td>8</td>\n",
       "      <td>-1</td>\n",
       "      <td>25</td>\n",
       "      <td>3</td>\n",
       "      <td>1.0</td>\n",
       "      <td>0.75</td>\n",
       "      <td>34.384843</td>\n",
       "    </tr>\n",
       "  </tbody>\n",
       "</table>\n",
       "</div>"
      ],
      "text/plain": [
       "                        name mfr type  calories  protein  fat  sodium  fiber  \\\n",
       "0                  100% Bran   N    C        70        4    1     130   10.0   \n",
       "1          100% Natural Bran   Q    C       120        3    5      15    2.0   \n",
       "2                   All-Bran   K    C        70        4    1     260    9.0   \n",
       "3  All-Bran with Extra Fiber   K    C        50        4    0     140   14.0   \n",
       "4             Almond Delight   R    C       110        2    2     200    1.0   \n",
       "\n",
       "   carbo  sugars  potass  vitamins  shelf  weight  cups     rating  \n",
       "0    5.0       6     280        25      3     1.0  0.33  68.402973  \n",
       "1    8.0       8     135         0      3     1.0  1.00  33.983679  \n",
       "2    7.0       5     320        25      3     1.0  0.33  59.425505  \n",
       "3    8.0       0     330        25      3     1.0  0.50  93.704912  \n",
       "4   14.0       8      -1        25      3     1.0  0.75  34.384843  "
      ]
     },
     "execution_count": 35,
     "metadata": {},
     "output_type": "execute_result"
    }
   ],
   "source": [
    "# import our newly installed library\n",
    "import pandas as pd # as pd is a shortname, we us this later\n",
    "\n",
    "data = pd.read_csv('cereal.csv') # pd shortname\n",
    "data.head()"
   ]
  },
  {
   "cell_type": "markdown",
   "id": "ecd40dce",
   "metadata": {},
   "source": [
    "You can see the code above is easily more readable and relevant just by using pandas. The `.head()` will show the first 5 rows by default, you can specify how many rows you want to show by typing a different number in the `.head()` method."
   ]
  },
  {
   "cell_type": "code",
   "execution_count": 34,
   "id": "30e827aa",
   "metadata": {},
   "outputs": [
    {
     "data": {
      "text/html": [
       "<div>\n",
       "<style scoped>\n",
       "    .dataframe tbody tr th:only-of-type {\n",
       "        vertical-align: middle;\n",
       "    }\n",
       "\n",
       "    .dataframe tbody tr th {\n",
       "        vertical-align: top;\n",
       "    }\n",
       "\n",
       "    .dataframe thead th {\n",
       "        text-align: right;\n",
       "    }\n",
       "</style>\n",
       "<table border=\"1\" class=\"dataframe\">\n",
       "  <thead>\n",
       "    <tr style=\"text-align: right;\">\n",
       "      <th></th>\n",
       "      <th>name</th>\n",
       "      <th>mfr</th>\n",
       "      <th>type</th>\n",
       "      <th>calories</th>\n",
       "      <th>protein</th>\n",
       "      <th>fat</th>\n",
       "      <th>sodium</th>\n",
       "      <th>fiber</th>\n",
       "      <th>carbo</th>\n",
       "      <th>sugars</th>\n",
       "      <th>potass</th>\n",
       "      <th>vitamins</th>\n",
       "      <th>shelf</th>\n",
       "      <th>weight</th>\n",
       "      <th>cups</th>\n",
       "      <th>rating</th>\n",
       "    </tr>\n",
       "  </thead>\n",
       "  <tbody>\n",
       "    <tr>\n",
       "      <th>0</th>\n",
       "      <td>100% Bran</td>\n",
       "      <td>N</td>\n",
       "      <td>C</td>\n",
       "      <td>70</td>\n",
       "      <td>4</td>\n",
       "      <td>1</td>\n",
       "      <td>130</td>\n",
       "      <td>10.0</td>\n",
       "      <td>5.0</td>\n",
       "      <td>6</td>\n",
       "      <td>280</td>\n",
       "      <td>25</td>\n",
       "      <td>3</td>\n",
       "      <td>1.0</td>\n",
       "      <td>0.33</td>\n",
       "      <td>68.402973</td>\n",
       "    </tr>\n",
       "    <tr>\n",
       "      <th>1</th>\n",
       "      <td>100% Natural Bran</td>\n",
       "      <td>Q</td>\n",
       "      <td>C</td>\n",
       "      <td>120</td>\n",
       "      <td>3</td>\n",
       "      <td>5</td>\n",
       "      <td>15</td>\n",
       "      <td>2.0</td>\n",
       "      <td>8.0</td>\n",
       "      <td>8</td>\n",
       "      <td>135</td>\n",
       "      <td>0</td>\n",
       "      <td>3</td>\n",
       "      <td>1.0</td>\n",
       "      <td>1.00</td>\n",
       "      <td>33.983679</td>\n",
       "    </tr>\n",
       "    <tr>\n",
       "      <th>2</th>\n",
       "      <td>All-Bran</td>\n",
       "      <td>K</td>\n",
       "      <td>C</td>\n",
       "      <td>70</td>\n",
       "      <td>4</td>\n",
       "      <td>1</td>\n",
       "      <td>260</td>\n",
       "      <td>9.0</td>\n",
       "      <td>7.0</td>\n",
       "      <td>5</td>\n",
       "      <td>320</td>\n",
       "      <td>25</td>\n",
       "      <td>3</td>\n",
       "      <td>1.0</td>\n",
       "      <td>0.33</td>\n",
       "      <td>59.425505</td>\n",
       "    </tr>\n",
       "    <tr>\n",
       "      <th>3</th>\n",
       "      <td>All-Bran with Extra Fiber</td>\n",
       "      <td>K</td>\n",
       "      <td>C</td>\n",
       "      <td>50</td>\n",
       "      <td>4</td>\n",
       "      <td>0</td>\n",
       "      <td>140</td>\n",
       "      <td>14.0</td>\n",
       "      <td>8.0</td>\n",
       "      <td>0</td>\n",
       "      <td>330</td>\n",
       "      <td>25</td>\n",
       "      <td>3</td>\n",
       "      <td>1.0</td>\n",
       "      <td>0.50</td>\n",
       "      <td>93.704912</td>\n",
       "    </tr>\n",
       "    <tr>\n",
       "      <th>4</th>\n",
       "      <td>Almond Delight</td>\n",
       "      <td>R</td>\n",
       "      <td>C</td>\n",
       "      <td>110</td>\n",
       "      <td>2</td>\n",
       "      <td>2</td>\n",
       "      <td>200</td>\n",
       "      <td>1.0</td>\n",
       "      <td>14.0</td>\n",
       "      <td>8</td>\n",
       "      <td>-1</td>\n",
       "      <td>25</td>\n",
       "      <td>3</td>\n",
       "      <td>1.0</td>\n",
       "      <td>0.75</td>\n",
       "      <td>34.384843</td>\n",
       "    </tr>\n",
       "    <tr>\n",
       "      <th>5</th>\n",
       "      <td>Apple Cinnamon Cheerios</td>\n",
       "      <td>G</td>\n",
       "      <td>C</td>\n",
       "      <td>110</td>\n",
       "      <td>2</td>\n",
       "      <td>2</td>\n",
       "      <td>180</td>\n",
       "      <td>1.5</td>\n",
       "      <td>10.5</td>\n",
       "      <td>10</td>\n",
       "      <td>70</td>\n",
       "      <td>25</td>\n",
       "      <td>1</td>\n",
       "      <td>1.0</td>\n",
       "      <td>0.75</td>\n",
       "      <td>29.509541</td>\n",
       "    </tr>\n",
       "    <tr>\n",
       "      <th>6</th>\n",
       "      <td>Apple Jacks</td>\n",
       "      <td>K</td>\n",
       "      <td>C</td>\n",
       "      <td>110</td>\n",
       "      <td>2</td>\n",
       "      <td>0</td>\n",
       "      <td>125</td>\n",
       "      <td>1.0</td>\n",
       "      <td>11.0</td>\n",
       "      <td>14</td>\n",
       "      <td>30</td>\n",
       "      <td>25</td>\n",
       "      <td>2</td>\n",
       "      <td>1.0</td>\n",
       "      <td>1.00</td>\n",
       "      <td>33.174094</td>\n",
       "    </tr>\n",
       "  </tbody>\n",
       "</table>\n",
       "</div>"
      ],
      "text/plain": [
       "                        name mfr type  calories  protein  fat  sodium  fiber  \\\n",
       "0                  100% Bran   N    C        70        4    1     130   10.0   \n",
       "1          100% Natural Bran   Q    C       120        3    5      15    2.0   \n",
       "2                   All-Bran   K    C        70        4    1     260    9.0   \n",
       "3  All-Bran with Extra Fiber   K    C        50        4    0     140   14.0   \n",
       "4             Almond Delight   R    C       110        2    2     200    1.0   \n",
       "5    Apple Cinnamon Cheerios   G    C       110        2    2     180    1.5   \n",
       "6                Apple Jacks   K    C       110        2    0     125    1.0   \n",
       "\n",
       "   carbo  sugars  potass  vitamins  shelf  weight  cups     rating  \n",
       "0    5.0       6     280        25      3     1.0  0.33  68.402973  \n",
       "1    8.0       8     135         0      3     1.0  1.00  33.983679  \n",
       "2    7.0       5     320        25      3     1.0  0.33  59.425505  \n",
       "3    8.0       0     330        25      3     1.0  0.50  93.704912  \n",
       "4   14.0       8      -1        25      3     1.0  0.75  34.384843  \n",
       "5   10.5      10      70        25      1     1.0  0.75  29.509541  \n",
       "6   11.0      14      30        25      2     1.0  1.00  33.174094  "
      ]
     },
     "execution_count": 34,
     "metadata": {},
     "output_type": "execute_result"
    }
   ],
   "source": [
    "data.head(7)"
   ]
  },
  {
   "cell_type": "code",
   "execution_count": 37,
   "id": "b2ed30c0",
   "metadata": {},
   "outputs": [
    {
     "data": {
      "text/html": [
       "<div>\n",
       "<style scoped>\n",
       "    .dataframe tbody tr th:only-of-type {\n",
       "        vertical-align: middle;\n",
       "    }\n",
       "\n",
       "    .dataframe tbody tr th {\n",
       "        vertical-align: top;\n",
       "    }\n",
       "\n",
       "    .dataframe thead th {\n",
       "        text-align: right;\n",
       "    }\n",
       "</style>\n",
       "<table border=\"1\" class=\"dataframe\">\n",
       "  <thead>\n",
       "    <tr style=\"text-align: right;\">\n",
       "      <th></th>\n",
       "      <th>mfr</th>\n",
       "      <th>type</th>\n",
       "      <th>calories</th>\n",
       "      <th>protein</th>\n",
       "      <th>fat</th>\n",
       "      <th>sodium</th>\n",
       "      <th>fiber</th>\n",
       "      <th>carbo</th>\n",
       "      <th>sugars</th>\n",
       "      <th>potass</th>\n",
       "      <th>vitamins</th>\n",
       "      <th>shelf</th>\n",
       "      <th>weight</th>\n",
       "      <th>cups</th>\n",
       "      <th>rating</th>\n",
       "    </tr>\n",
       "    <tr>\n",
       "      <th>name</th>\n",
       "      <th></th>\n",
       "      <th></th>\n",
       "      <th></th>\n",
       "      <th></th>\n",
       "      <th></th>\n",
       "      <th></th>\n",
       "      <th></th>\n",
       "      <th></th>\n",
       "      <th></th>\n",
       "      <th></th>\n",
       "      <th></th>\n",
       "      <th></th>\n",
       "      <th></th>\n",
       "      <th></th>\n",
       "      <th></th>\n",
       "    </tr>\n",
       "  </thead>\n",
       "  <tbody>\n",
       "    <tr>\n",
       "      <th>100% Bran</th>\n",
       "      <td>N</td>\n",
       "      <td>C</td>\n",
       "      <td>70</td>\n",
       "      <td>4</td>\n",
       "      <td>1</td>\n",
       "      <td>130</td>\n",
       "      <td>10.0</td>\n",
       "      <td>5.0</td>\n",
       "      <td>6</td>\n",
       "      <td>280</td>\n",
       "      <td>25</td>\n",
       "      <td>3</td>\n",
       "      <td>1.0</td>\n",
       "      <td>0.33</td>\n",
       "      <td>68.402973</td>\n",
       "    </tr>\n",
       "    <tr>\n",
       "      <th>100% Natural Bran</th>\n",
       "      <td>Q</td>\n",
       "      <td>C</td>\n",
       "      <td>120</td>\n",
       "      <td>3</td>\n",
       "      <td>5</td>\n",
       "      <td>15</td>\n",
       "      <td>2.0</td>\n",
       "      <td>8.0</td>\n",
       "      <td>8</td>\n",
       "      <td>135</td>\n",
       "      <td>0</td>\n",
       "      <td>3</td>\n",
       "      <td>1.0</td>\n",
       "      <td>1.00</td>\n",
       "      <td>33.983679</td>\n",
       "    </tr>\n",
       "    <tr>\n",
       "      <th>All-Bran</th>\n",
       "      <td>K</td>\n",
       "      <td>C</td>\n",
       "      <td>70</td>\n",
       "      <td>4</td>\n",
       "      <td>1</td>\n",
       "      <td>260</td>\n",
       "      <td>9.0</td>\n",
       "      <td>7.0</td>\n",
       "      <td>5</td>\n",
       "      <td>320</td>\n",
       "      <td>25</td>\n",
       "      <td>3</td>\n",
       "      <td>1.0</td>\n",
       "      <td>0.33</td>\n",
       "      <td>59.425505</td>\n",
       "    </tr>\n",
       "    <tr>\n",
       "      <th>All-Bran with Extra Fiber</th>\n",
       "      <td>K</td>\n",
       "      <td>C</td>\n",
       "      <td>50</td>\n",
       "      <td>4</td>\n",
       "      <td>0</td>\n",
       "      <td>140</td>\n",
       "      <td>14.0</td>\n",
       "      <td>8.0</td>\n",
       "      <td>0</td>\n",
       "      <td>330</td>\n",
       "      <td>25</td>\n",
       "      <td>3</td>\n",
       "      <td>1.0</td>\n",
       "      <td>0.50</td>\n",
       "      <td>93.704912</td>\n",
       "    </tr>\n",
       "    <tr>\n",
       "      <th>Almond Delight</th>\n",
       "      <td>R</td>\n",
       "      <td>C</td>\n",
       "      <td>110</td>\n",
       "      <td>2</td>\n",
       "      <td>2</td>\n",
       "      <td>200</td>\n",
       "      <td>1.0</td>\n",
       "      <td>14.0</td>\n",
       "      <td>8</td>\n",
       "      <td>-1</td>\n",
       "      <td>25</td>\n",
       "      <td>3</td>\n",
       "      <td>1.0</td>\n",
       "      <td>0.75</td>\n",
       "      <td>34.384843</td>\n",
       "    </tr>\n",
       "  </tbody>\n",
       "</table>\n",
       "</div>"
      ],
      "text/plain": [
       "                          mfr type  calories  protein  fat  sodium  fiber  \\\n",
       "name                                                                        \n",
       "100% Bran                   N    C        70        4    1     130   10.0   \n",
       "100% Natural Bran           Q    C       120        3    5      15    2.0   \n",
       "All-Bran                    K    C        70        4    1     260    9.0   \n",
       "All-Bran with Extra Fiber   K    C        50        4    0     140   14.0   \n",
       "Almond Delight              R    C       110        2    2     200    1.0   \n",
       "\n",
       "                           carbo  sugars  potass  vitamins  shelf  weight  \\\n",
       "name                                                                        \n",
       "100% Bran                    5.0       6     280        25      3     1.0   \n",
       "100% Natural Bran            8.0       8     135         0      3     1.0   \n",
       "All-Bran                     7.0       5     320        25      3     1.0   \n",
       "All-Bran with Extra Fiber    8.0       0     330        25      3     1.0   \n",
       "Almond Delight              14.0       8      -1        25      3     1.0   \n",
       "\n",
       "                           cups     rating  \n",
       "name                                        \n",
       "100% Bran                  0.33  68.402973  \n",
       "100% Natural Bran          1.00  33.983679  \n",
       "All-Bran                   0.33  59.425505  \n",
       "All-Bran with Extra Fiber  0.50  93.704912  \n",
       "Almond Delight             0.75  34.384843  "
      ]
     },
     "execution_count": 37,
     "metadata": {},
     "output_type": "execute_result"
    }
   ],
   "source": [
    "# You can define an index column by using the index_col parameter\n",
    "data = pd.read_csv('cereal.csv', index_col='name')\n",
    "data.head()"
   ]
  },
  {
   "cell_type": "markdown",
   "id": "03797341",
   "metadata": {},
   "source": [
    "To call a column simply use the column name"
   ]
  },
  {
   "cell_type": "code",
   "execution_count": 39,
   "id": "6d51618b",
   "metadata": {},
   "outputs": [
    {
     "data": {
      "text/plain": [
       "name\n",
       "100% Bran                     70\n",
       "100% Natural Bran            120\n",
       "All-Bran                      70\n",
       "All-Bran with Extra Fiber     50\n",
       "Almond Delight               110\n",
       "                            ... \n",
       "Triples                      110\n",
       "Trix                         110\n",
       "Wheat Chex                   100\n",
       "Wheaties                     100\n",
       "Wheaties Honey Gold          110\n",
       "Name: calories, Length: 77, dtype: int64"
      ]
     },
     "execution_count": 39,
     "metadata": {},
     "output_type": "execute_result"
    }
   ],
   "source": [
    "data.calories"
   ]
  },
  {
   "cell_type": "code",
   "execution_count": 40,
   "id": "6bf52a99",
   "metadata": {},
   "outputs": [
    {
     "data": {
      "text/plain": [
       "pandas.core.frame.DataFrame"
      ]
     },
     "execution_count": 40,
     "metadata": {},
     "output_type": "execute_result"
    }
   ],
   "source": [
    "# What data type is this?\n",
    "type(data)"
   ]
  },
  {
   "cell_type": "code",
   "execution_count": 41,
   "id": "df549f88",
   "metadata": {},
   "outputs": [
    {
     "data": {
      "text/plain": [
       "pandas.core.series.Series"
      ]
     },
     "execution_count": 41,
     "metadata": {},
     "output_type": "execute_result"
    }
   ],
   "source": [
    "# And what data data is each of the columns\n",
    "type(data.calories)"
   ]
  },
  {
   "cell_type": "code",
   "execution_count": 42,
   "id": "c3366497",
   "metadata": {},
   "outputs": [
    {
     "data": {
      "text/plain": [
       "mfr                 N\n",
       "type                C\n",
       "calories           70\n",
       "protein             4\n",
       "fat                 1\n",
       "sodium            130\n",
       "fiber            10.0\n",
       "carbo             5.0\n",
       "sugars              6\n",
       "potass            280\n",
       "vitamins           25\n",
       "shelf               3\n",
       "weight            1.0\n",
       "cups             0.33\n",
       "rating      68.402973\n",
       "Name: 100% Bran, dtype: object"
      ]
     },
     "execution_count": 42,
     "metadata": {},
     "output_type": "execute_result"
    }
   ],
   "source": [
    "# You can also index the dataframe similar to a list\n",
    "data.iloc[0]"
   ]
  },
  {
   "cell_type": "code",
   "execution_count": 44,
   "id": "50ae2f73",
   "metadata": {},
   "outputs": [
    {
     "data": {
      "text/plain": [
       "mfr                 R\n",
       "type                C\n",
       "calories          110\n",
       "protein             2\n",
       "fat                 0\n",
       "sodium            280\n",
       "fiber             0.0\n",
       "carbo            22.0\n",
       "sugars              3\n",
       "potass             25\n",
       "vitamins           25\n",
       "shelf               1\n",
       "weight            1.0\n",
       "cups              1.0\n",
       "rating      41.445019\n",
       "Name: Corn Chex, dtype: object"
      ]
     },
     "execution_count": 44,
     "metadata": {},
     "output_type": "execute_result"
    }
   ],
   "source": [
    "data.iloc[15]"
   ]
  },
  {
   "cell_type": "code",
   "execution_count": 45,
   "id": "000672e4",
   "metadata": {},
   "outputs": [
    {
     "data": {
      "text/html": [
       "<div>\n",
       "<style scoped>\n",
       "    .dataframe tbody tr th:only-of-type {\n",
       "        vertical-align: middle;\n",
       "    }\n",
       "\n",
       "    .dataframe tbody tr th {\n",
       "        vertical-align: top;\n",
       "    }\n",
       "\n",
       "    .dataframe thead th {\n",
       "        text-align: right;\n",
       "    }\n",
       "</style>\n",
       "<table border=\"1\" class=\"dataframe\">\n",
       "  <thead>\n",
       "    <tr style=\"text-align: right;\">\n",
       "      <th></th>\n",
       "      <th>mfr</th>\n",
       "      <th>type</th>\n",
       "      <th>calories</th>\n",
       "      <th>protein</th>\n",
       "      <th>fat</th>\n",
       "      <th>sodium</th>\n",
       "      <th>fiber</th>\n",
       "      <th>carbo</th>\n",
       "      <th>sugars</th>\n",
       "      <th>potass</th>\n",
       "      <th>vitamins</th>\n",
       "      <th>shelf</th>\n",
       "      <th>weight</th>\n",
       "      <th>cups</th>\n",
       "      <th>rating</th>\n",
       "    </tr>\n",
       "    <tr>\n",
       "      <th>name</th>\n",
       "      <th></th>\n",
       "      <th></th>\n",
       "      <th></th>\n",
       "      <th></th>\n",
       "      <th></th>\n",
       "      <th></th>\n",
       "      <th></th>\n",
       "      <th></th>\n",
       "      <th></th>\n",
       "      <th></th>\n",
       "      <th></th>\n",
       "      <th></th>\n",
       "      <th></th>\n",
       "      <th></th>\n",
       "      <th></th>\n",
       "    </tr>\n",
       "  </thead>\n",
       "  <tbody>\n",
       "    <tr>\n",
       "      <th>Trix</th>\n",
       "      <td>G</td>\n",
       "      <td>C</td>\n",
       "      <td>110</td>\n",
       "      <td>1</td>\n",
       "      <td>1</td>\n",
       "      <td>140</td>\n",
       "      <td>0.0</td>\n",
       "      <td>13.0</td>\n",
       "      <td>12</td>\n",
       "      <td>25</td>\n",
       "      <td>25</td>\n",
       "      <td>2</td>\n",
       "      <td>1.0</td>\n",
       "      <td>1.0</td>\n",
       "      <td>27.753301</td>\n",
       "    </tr>\n",
       "  </tbody>\n",
       "</table>\n",
       "</div>"
      ],
      "text/plain": [
       "     mfr type  calories  protein  fat  sodium  fiber  carbo  sugars  potass  \\\n",
       "name                                                                          \n",
       "Trix   G    C       110        1    1     140    0.0   13.0      12      25   \n",
       "\n",
       "      vitamins  shelf  weight  cups     rating  \n",
       "name                                            \n",
       "Trix        25      2     1.0   1.0  27.753301  "
      ]
     },
     "execution_count": 45,
     "metadata": {},
     "output_type": "execute_result"
    }
   ],
   "source": [
    "# We can also index by index name\n",
    "data[data.index == 'Trix']"
   ]
  }
 ],
 "metadata": {
  "kernelspec": {
   "display_name": "Python 3 (ipykernel)",
   "language": "python",
   "name": "python3"
  },
  "language_info": {
   "codemirror_mode": {
    "name": "ipython",
    "version": 3
   },
   "file_extension": ".py",
   "mimetype": "text/x-python",
   "name": "python",
   "nbconvert_exporter": "python",
   "pygments_lexer": "ipython3",
   "version": "3.10.4"
  }
 },
 "nbformat": 4,
 "nbformat_minor": 5
}
