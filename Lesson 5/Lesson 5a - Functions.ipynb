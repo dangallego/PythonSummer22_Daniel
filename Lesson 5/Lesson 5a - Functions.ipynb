{
 "cells": [
  {
   "cell_type": "markdown",
   "id": "d30f8f43",
   "metadata": {},
   "source": [
    "## Functions\n",
    "A function is a block of code with an associated name that receives and input and follows a sequence of statements. It returns a value or completes a task. It can be called as many times as needed.\n",
    "\n",
    "The use of functions is a very important component of the so-called structured programming paradigm, and it has several advantages:\n",
    "\n",
    "- **modularization:** allows a complex program to be segmented into a series of simpler parts or modules, thus facilitating programming and debugging. \n",
    "- **reuse:** allows you to reuse the same function in different programs. Python has a number of functions built into the language, and also allows you to create user-defined functions to be used in your own programs.\n",
    "\n",
    "DEF The **def** statement is a function definition used to create user-defined function objects.\n",
    "\n",
    "A function definition is an executable statement. Its execution binds the name of the function in the current local namespace to a function object (a wrapper around the executable code for the function). This function object contains a reference to the global local namespace as the global namespace to be used when the function is called.\n",
    "\n",
    "The function definition does not execute the body of the function; this is executed only when the function is called.\n",
    "\n",
    "The syntax for defining a Python function is as follows:\n",
    "\n",
    "def <function_name> ([\\<parameters>]):\n",
    "\n",
    "    \\<statements>"
   ]
  },
  {
   "cell_type": "code",
   "execution_count": 2,
   "id": "be6cf6dd",
   "metadata": {},
   "outputs": [],
   "source": [
    "def hello(arg):\n",
    "        print (\"Hello\", arg, \"!\")"
   ]
  },
  {
   "cell_type": "code",
   "execution_count": 3,
   "id": "e7d80121",
   "metadata": {},
   "outputs": [
    {
     "name": "stdout",
     "output_type": "stream",
     "text": [
      "Hello World !\n"
     ]
    }
   ],
   "source": [
    "hello(\"World\")"
   ]
  },
  {
   "cell_type": "markdown",
   "id": "a85b53ab",
   "metadata": {},
   "source": [
    "hello(8)"
   ]
  },
  {
   "cell_type": "markdown",
   "id": "c924d5b4",
   "metadata": {},
   "source": [
    "Functions must be indented, similar to control structures"
   ]
  },
  {
   "cell_type": "markdown",
   "id": "d9d344e3",
   "metadata": {},
   "source": [
    "### Modularity\n",
    "Functions allow complex processes to be broken into smaller steps. Lets imagine that you have a program that needs 3 steps to complete. Your program could be broken up like this:"
   ]
  },
  {
   "cell_type": "markdown",
   "id": "d60fd332",
   "metadata": {},
   "source": [
    "`# Your program`\n",
    "\n",
    "`# Step 1`\n",
    "\n",
    "`<statement>`\n",
    "\n",
    "`<statement>`\n",
    "\n",
    "`<statement>`\n",
    "\n",
    "`# Step 2`\n",
    "\n",
    "`<statement>`\n",
    "\n",
    "`<statement>`\n",
    "\n",
    "`<statement>`\n",
    "\n",
    "`# Step 3`\n",
    "\n",
    "`<statement>`\n",
    "\n",
    "`<statement>`\n",
    "\n",
    "`<statement>`\n"
   ]
  },
  {
   "cell_type": "markdown",
   "id": "c1d1aa77",
   "metadata": {},
   "source": [
    "If we were to break this code into functions it would look like this pseudocode.\n",
    "\n",
    "In the following example we have broken up the code into separate functions that can focus on a specific step. The main program just calls these functions at the end of the script."
   ]
  },
  {
   "cell_type": "code",
   "execution_count": 3,
   "id": "fb4bfaa4",
   "metadata": {},
   "outputs": [],
   "source": [
    "# Your program\n",
    "def step_one():\n",
    "    # your statements\n",
    "    pass # will not do anything. Works as a placeholder\n",
    "\n",
    "def step_two():\n",
    "    # your step two statements\n",
    "    pass # will not do anything. Works as a placeholder\n",
    "\n",
    "def step_three():\n",
    "    # your step three statements\n",
    "    pass # will not do anything. Works as a placeholder\n",
    "    \n",
    "# the main program\n",
    "step_one()\n",
    "step_two()\n",
    "step_three()"
   ]
  },
  {
   "cell_type": "markdown",
   "id": "300735ee",
   "metadata": {},
   "source": [
    "Notice that defining a function does not call it, you need to call it whenever you want to use it in your code, here is a short example to illustrate this:"
   ]
  },
  {
   "cell_type": "code",
   "execution_count": 4,
   "id": "b1128a90",
   "metadata": {},
   "outputs": [
    {
     "name": "stdout",
     "output_type": "stream",
     "text": [
      "Before calling my_func()\n",
      "Inside the function\n",
      "After calling my_func()\n"
     ]
    }
   ],
   "source": [
    "def my_func():\n",
    "    msg = 'Inside the function'\n",
    "    print(msg)\n",
    "\n",
    "print('Before calling my_func()')\n",
    "my_func()\n",
    "print('After calling my_func()')"
   ]
  },
  {
   "cell_type": "markdown",
   "id": "e7f9a4a7",
   "metadata": {},
   "source": [
    "### Arguments and parameters\n",
    "When defining a function the values which are received are called parameters, but during the call the values which are sent are called arguments.\n",
    "\n",
    "By position When you send arguments to a function, they are received in order in the defined parameters. They are therefore said to be positional arguments:"
   ]
  },
  {
   "cell_type": "code",
   "execution_count": 15,
   "id": "2fea1cdf",
   "metadata": {},
   "outputs": [],
   "source": [
    "def cars(qty, color, price):\n",
    "    print(f'{qty} {color} car costs ${price:.2f}')"
   ]
  },
  {
   "cell_type": "code",
   "execution_count": 17,
   "id": "111f5750",
   "metadata": {},
   "outputs": [
    {
     "name": "stdout",
     "output_type": "stream",
     "text": [
      "1 green car costs $3000.99\n"
     ]
    }
   ],
   "source": [
    "cars(1, 'green', 3000.99)"
   ]
  },
  {
   "cell_type": "markdown",
   "id": "cc341139",
   "metadata": {},
   "source": [
    "For this function to work correctly you need to pass the arguments in order, but nothing stops you from passing arguments in different order:"
   ]
  },
  {
   "cell_type": "code",
   "execution_count": 18,
   "id": "2ea61a33",
   "metadata": {},
   "outputs": [
    {
     "name": "stdout",
     "output_type": "stream",
     "text": [
      "3000.99 green car costs $1.00\n"
     ]
    }
   ],
   "source": [
    "cars(3000.99, 'green', 1)"
   ]
  },
  {
   "cell_type": "markdown",
   "id": "c9e1c735",
   "metadata": {},
   "source": [
    "So when passing arguments as positional arguments these must be in the correct order and also in the correct number. When trying to pass too many or too few paramenters an error will pop up, telling your there are too few or too many arguments:"
   ]
  },
  {
   "cell_type": "code",
   "execution_count": 19,
   "id": "e727864a",
   "metadata": {},
   "outputs": [
    {
     "ename": "TypeError",
     "evalue": "cars() takes 3 positional arguments but 4 were given",
     "output_type": "error",
     "traceback": [
      "\u001b[1;31m---------------------------------------------------------------------------\u001b[0m",
      "\u001b[1;31mTypeError\u001b[0m                                 Traceback (most recent call last)",
      "Input \u001b[1;32mIn [19]\u001b[0m, in \u001b[0;36m<module>\u001b[1;34m\u001b[0m\n\u001b[1;32m----> 1\u001b[0m \u001b[43mcars\u001b[49m\u001b[43m(\u001b[49m\u001b[38;5;241;43m1\u001b[39;49m\u001b[43m,\u001b[49m\u001b[43m \u001b[49m\u001b[38;5;124;43m'\u001b[39;49m\u001b[38;5;124;43mred\u001b[39;49m\u001b[38;5;124;43m'\u001b[39;49m\u001b[43m,\u001b[49m\u001b[43m \u001b[49m\u001b[38;5;241;43m4000.99\u001b[39;49m\u001b[43m,\u001b[49m\u001b[43m \u001b[49m\u001b[38;5;124;43m'\u001b[39;49m\u001b[38;5;124;43mblue\u001b[39;49m\u001b[38;5;124;43m'\u001b[39;49m\u001b[43m)\u001b[49m\n",
      "\u001b[1;31mTypeError\u001b[0m: cars() takes 3 positional arguments but 4 were given"
     ]
    }
   ],
   "source": [
    "cars(1, 'red', 4000.99, 'blue')"
   ]
  },
  {
   "cell_type": "code",
   "execution_count": 20,
   "id": "923c3692",
   "metadata": {},
   "outputs": [
    {
     "ename": "TypeError",
     "evalue": "cars() missing 1 required positional argument: 'price'",
     "output_type": "error",
     "traceback": [
      "\u001b[1;31m---------------------------------------------------------------------------\u001b[0m",
      "\u001b[1;31mTypeError\u001b[0m                                 Traceback (most recent call last)",
      "Input \u001b[1;32mIn [20]\u001b[0m, in \u001b[0;36m<module>\u001b[1;34m\u001b[0m\n\u001b[1;32m----> 1\u001b[0m \u001b[43mcars\u001b[49m\u001b[43m(\u001b[49m\u001b[38;5;241;43m1\u001b[39;49m\u001b[43m,\u001b[49m\u001b[43m \u001b[49m\u001b[38;5;124;43m'\u001b[39;49m\u001b[38;5;124;43mred\u001b[39;49m\u001b[38;5;124;43m'\u001b[39;49m\u001b[43m)\u001b[49m\n",
      "\u001b[1;31mTypeError\u001b[0m: cars() missing 1 required positional argument: 'price'"
     ]
    }
   ],
   "source": [
    "cars(1, 'red')"
   ]
  },
  {
   "cell_type": "markdown",
   "id": "a51c8ef0",
   "metadata": {},
   "source": [
    "#### Keyword arguments\n",
    "When calling a function you can specify arguments in the form of \"keyword\"=\"value\". Each keyword must match a parameter in the Python function definition. Here is how we could call our function using keyword arguments:"
   ]
  },
  {
   "cell_type": "code",
   "execution_count": 21,
   "id": "84bb1191",
   "metadata": {},
   "outputs": [
    {
     "name": "stdout",
     "output_type": "stream",
     "text": [
      "2 green car costs $9999.99\n"
     ]
    }
   ],
   "source": [
    "cars(color='green', price=9999.99, qty=2)"
   ]
  },
  {
   "cell_type": "markdown",
   "id": "02c5eda1",
   "metadata": {},
   "source": [
    "If you don't match the declared parameters this will generate an exception:"
   ]
  },
  {
   "cell_type": "code",
   "execution_count": 22,
   "id": "87cf07e4",
   "metadata": {},
   "outputs": [
    {
     "ename": "TypeError",
     "evalue": "cars() got an unexpected keyword argument 'cost'",
     "output_type": "error",
     "traceback": [
      "\u001b[1;31m---------------------------------------------------------------------------\u001b[0m",
      "\u001b[1;31mTypeError\u001b[0m                                 Traceback (most recent call last)",
      "Input \u001b[1;32mIn [22]\u001b[0m, in \u001b[0;36m<module>\u001b[1;34m\u001b[0m\n\u001b[1;32m----> 1\u001b[0m \u001b[43mcars\u001b[49m\u001b[43m(\u001b[49m\u001b[43mcolor\u001b[49m\u001b[38;5;241;43m=\u001b[39;49m\u001b[38;5;124;43m'\u001b[39;49m\u001b[38;5;124;43mgreen\u001b[39;49m\u001b[38;5;124;43m'\u001b[39;49m\u001b[43m,\u001b[49m\u001b[43m \u001b[49m\u001b[43mcost\u001b[49m\u001b[38;5;241;43m=\u001b[39;49m\u001b[38;5;241;43m9999.99\u001b[39;49m\u001b[43m,\u001b[49m\u001b[43m \u001b[49m\u001b[43mqty\u001b[49m\u001b[38;5;241;43m=\u001b[39;49m\u001b[38;5;241;43m2\u001b[39;49m\u001b[43m)\u001b[49m\n",
      "\u001b[1;31mTypeError\u001b[0m: cars() got an unexpected keyword argument 'cost'"
     ]
    }
   ],
   "source": [
    "cars(color='green', cost=9999.99, qty=2)"
   ]
  },
  {
   "cell_type": "markdown",
   "id": "a9bdf821",
   "metadata": {},
   "source": [
    "Also the number of arguments must still match:"
   ]
  },
  {
   "cell_type": "code",
   "execution_count": 24,
   "id": "b07c47f0",
   "metadata": {},
   "outputs": [
    {
     "ename": "TypeError",
     "evalue": "cars() missing 1 required positional argument: 'qty'",
     "output_type": "error",
     "traceback": [
      "\u001b[1;31m---------------------------------------------------------------------------\u001b[0m",
      "\u001b[1;31mTypeError\u001b[0m                                 Traceback (most recent call last)",
      "Input \u001b[1;32mIn [24]\u001b[0m, in \u001b[0;36m<module>\u001b[1;34m\u001b[0m\n\u001b[1;32m----> 1\u001b[0m \u001b[43mcars\u001b[49m\u001b[43m(\u001b[49m\u001b[43mcolor\u001b[49m\u001b[38;5;241;43m=\u001b[39;49m\u001b[38;5;124;43m'\u001b[39;49m\u001b[38;5;124;43mgreen\u001b[39;49m\u001b[38;5;124;43m'\u001b[39;49m\u001b[43m,\u001b[49m\u001b[43m \u001b[49m\u001b[43mprice\u001b[49m\u001b[38;5;241;43m=\u001b[39;49m\u001b[38;5;241;43m9999.99\u001b[39;49m\u001b[43m)\u001b[49m\n",
      "\u001b[1;31mTypeError\u001b[0m: cars() missing 1 required positional argument: 'qty'"
     ]
    }
   ],
   "source": [
    "cars(color='green', price=9999.99)"
   ]
  },
  {
   "cell_type": "code",
   "execution_count": 25,
   "id": "5066fe79",
   "metadata": {},
   "outputs": [
    {
     "ename": "TypeError",
     "evalue": "cars() got an unexpected keyword argument 'color2'",
     "output_type": "error",
     "traceback": [
      "\u001b[1;31m---------------------------------------------------------------------------\u001b[0m",
      "\u001b[1;31mTypeError\u001b[0m                                 Traceback (most recent call last)",
      "Input \u001b[1;32mIn [25]\u001b[0m, in \u001b[0;36m<module>\u001b[1;34m\u001b[0m\n\u001b[1;32m----> 1\u001b[0m \u001b[43mcars\u001b[49m\u001b[43m(\u001b[49m\u001b[43mcolor\u001b[49m\u001b[38;5;241;43m=\u001b[39;49m\u001b[38;5;124;43m'\u001b[39;49m\u001b[38;5;124;43mgreen\u001b[39;49m\u001b[38;5;124;43m'\u001b[39;49m\u001b[43m,\u001b[49m\u001b[43m \u001b[49m\u001b[43mprice\u001b[49m\u001b[38;5;241;43m=\u001b[39;49m\u001b[38;5;241;43m9999.99\u001b[39;49m\u001b[43m,\u001b[49m\u001b[43m \u001b[49m\u001b[43mqty\u001b[49m\u001b[38;5;241;43m=\u001b[39;49m\u001b[38;5;241;43m2\u001b[39;49m\u001b[43m,\u001b[49m\u001b[43m \u001b[49m\u001b[43mcolor2\u001b[49m\u001b[38;5;241;43m=\u001b[39;49m\u001b[38;5;124;43m'\u001b[39;49m\u001b[38;5;124;43mred\u001b[39;49m\u001b[38;5;124;43m'\u001b[39;49m\u001b[43m)\u001b[49m\n",
      "\u001b[1;31mTypeError\u001b[0m: cars() got an unexpected keyword argument 'color2'"
     ]
    }
   ],
   "source": [
    "cars(color='green', price=9999.99, qty=2, color2='red')"
   ]
  },
  {
   "cell_type": "markdown",
   "id": "c553e258",
   "metadata": {},
   "source": [
    "You can also use a function by combining positional and keyword arguments. When using this combination, the positional arguments must come first:"
   ]
  },
  {
   "cell_type": "code",
   "execution_count": 26,
   "id": "c11d3e8d",
   "metadata": {},
   "outputs": [
    {
     "name": "stdout",
     "output_type": "stream",
     "text": [
      "2 green car costs $9999.99\n"
     ]
    }
   ],
   "source": [
    "cars(2, color='green', price=9999.99)"
   ]
  },
  {
   "cell_type": "markdown",
   "id": "41c9471b",
   "metadata": {},
   "source": [
    "### Default parameters\n",
    "A default or optional parameter takes the value of the default value set at definition when this argument is left out on function call:"
   ]
  },
  {
   "cell_type": "code",
   "execution_count": 28,
   "id": "511c4609",
   "metadata": {},
   "outputs": [],
   "source": [
    "def substract(a = 2, b = 3):\n",
    "     return a - b"
   ]
  },
  {
   "cell_type": "code",
   "execution_count": 29,
   "id": "4834298b",
   "metadata": {},
   "outputs": [
    {
     "data": {
      "text/plain": [
       "-3"
      ]
     },
     "execution_count": 29,
     "metadata": {},
     "output_type": "execute_result"
    }
   ],
   "source": [
    "substract(4, 7)"
   ]
  },
  {
   "cell_type": "markdown",
   "id": "7d319392",
   "metadata": {},
   "source": [
    "Or you can define it by name"
   ]
  },
  {
   "cell_type": "code",
   "execution_count": 30,
   "id": "8ecb6616",
   "metadata": {},
   "outputs": [
    {
     "data": {
      "text/plain": [
       "6"
      ]
     },
     "execution_count": 30,
     "metadata": {},
     "output_type": "execute_result"
    }
   ],
   "source": [
    "substract(b = 4, a = 10)"
   ]
  },
  {
   "cell_type": "code",
   "execution_count": 31,
   "id": "ce8f9e7d",
   "metadata": {},
   "outputs": [
    {
     "data": {
      "text/plain": [
       "-1"
      ]
     },
     "execution_count": 31,
     "metadata": {},
     "output_type": "execute_result"
    }
   ],
   "source": [
    "# Default parameters\n",
    "substract()"
   ]
  },
  {
   "cell_type": "markdown",
   "id": "f456d52b",
   "metadata": {},
   "source": [
    "#### The *return* statement\n",
    "Many times we need our functions to do two things:\n",
    "1. Run the function, terminate it and pass the execution back to the caller (could be the main program).\n",
    "2. Pass data back to the caller.\n",
    "\n",
    "A `return` statement causes inmediante exit from the function and transfer of execution to the caller. By default functions will return to the caller when the last statement of the function body is executed. Return statements don't need to be at the end of functions, knowing this we can put use them in multiple places in our functions. Check out the following examples:"
   ]
  },
  {
   "cell_type": "code",
   "execution_count": 32,
   "id": "7b1a4d70",
   "metadata": {},
   "outputs": [
    {
     "name": "stdout",
     "output_type": "stream",
     "text": [
      "Hello\n",
      "world\n"
     ]
    }
   ],
   "source": [
    "def my_f():\n",
    "    print('Hello')\n",
    "    print('world')\n",
    "    return\n",
    "my_f()"
   ]
  },
  {
   "cell_type": "code",
   "execution_count": 33,
   "id": "729779e9",
   "metadata": {},
   "outputs": [
    {
     "name": "stdout",
     "output_type": "stream",
     "text": [
      "55\n"
     ]
    }
   ],
   "source": [
    "def my_f(x):\n",
    "    if x < 0:\n",
    "        return\n",
    "    if x > 100:\n",
    "        return\n",
    "    print(x)\n",
    "my_f(-3)\n",
    "my_f(150)\n",
    "my_f(55)"
   ]
  },
  {
   "cell_type": "markdown",
   "id": "b3aafaa1",
   "metadata": {},
   "source": [
    "You can see that this would be useful to check for errors at the start of the function, and use `return` if there is a problem"
   ]
  },
  {
   "cell_type": "markdown",
   "id": "159d8708",
   "metadata": {},
   "source": [
    "#### Return data to the caller\n",
    "In addition to exiting a function, the `return` statement is also used to pass data back to the caller. We can return expressions, and Python will return the value of this evaluated expression"
   ]
  },
  {
   "cell_type": "code",
   "execution_count": 34,
   "id": "a46ea7b8",
   "metadata": {},
   "outputs": [
    {
     "data": {
      "text/plain": [
       "'Hi'"
      ]
     },
     "execution_count": 34,
     "metadata": {},
     "output_type": "execute_result"
    }
   ],
   "source": [
    "def my_f():\n",
    "    return 'Hi'\n",
    "\n",
    "my_f()"
   ]
  },
  {
   "cell_type": "code",
   "execution_count": 35,
   "id": "0944e6f6",
   "metadata": {},
   "outputs": [
    {
     "data": {
      "text/plain": [
       "'Hi'"
      ]
     },
     "execution_count": 35,
     "metadata": {},
     "output_type": "execute_result"
    }
   ],
   "source": [
    "var = my_f()\n",
    "var"
   ]
  },
  {
   "cell_type": "markdown",
   "id": "1f5d58fc",
   "metadata": {},
   "source": [
    "A function can return any type of object, either a string, dictionary, or any of the other data types that we have seen so far:"
   ]
  },
  {
   "cell_type": "code",
   "execution_count": 37,
   "id": "c90007c7",
   "metadata": {},
   "outputs": [
    {
     "data": {
      "text/plain": [
       "'llo'"
      ]
     },
     "execution_count": 37,
     "metadata": {},
     "output_type": "execute_result"
    }
   ],
   "source": [
    "def my_f():\n",
    "    return 'Hello'\n",
    "\n",
    "my_f()[2:5] # Slicing the returned string"
   ]
  },
  {
   "cell_type": "code",
   "execution_count": 38,
   "id": "8f6d9b36",
   "metadata": {},
   "outputs": [
    {
     "data": {
      "text/plain": [
       "['a', 'b', 'c']"
      ]
     },
     "execution_count": 38,
     "metadata": {},
     "output_type": "execute_result"
    }
   ],
   "source": [
    "def my_f2():\n",
    "    return ['a', 'b', 'c', 'd', 'e']\n",
    "\n",
    "my_f2()[:3]"
   ]
  },
  {
   "cell_type": "markdown",
   "id": "9393c3c6",
   "metadata": {},
   "source": [
    "When multiple comma separated expressions are returned, Python will pack them as a tuple:"
   ]
  },
  {
   "cell_type": "code",
   "execution_count": 43,
   "id": "9826f172",
   "metadata": {},
   "outputs": [
    {
     "data": {
      "text/plain": [
       "('hello', 'my')"
      ]
     },
     "execution_count": 43,
     "metadata": {},
     "output_type": "execute_result"
    }
   ],
   "source": [
    "def my_f3():\n",
    "    return 'hello', 'from', 'my', 'function'\n",
    "\n",
    "my_f3()[0::2]"
   ]
  },
  {
   "cell_type": "markdown",
   "id": "62e8685e",
   "metadata": {},
   "source": [
    "If nothing is specified, a `None` type will be returned:"
   ]
  },
  {
   "cell_type": "code",
   "execution_count": 44,
   "id": "a4c6cbcc",
   "metadata": {},
   "outputs": [
    {
     "name": "stdout",
     "output_type": "stream",
     "text": [
      "None\n"
     ]
    }
   ],
   "source": [
    "def f():\n",
    "    return\n",
    "\n",
    "print(f())"
   ]
  },
  {
   "cell_type": "markdown",
   "id": "e20d1404",
   "metadata": {},
   "source": [
    "### Practice exercises\n",
    "1. Create a function that returns the addition, substraction, multiplication, and division of two numbers `a` and `b`, the default values for these numbers are 1.\n",
    "2. Create a similar function as exercises 1, but add a parameter that selects the operation to be performed called `op`, and has the following options `op='sum'`, `op='sub'`, `op='mul'` and `op='div'`. Each of this options correspond to a single operation. The function default value is addition. Use return statements to return the selected operation.\n",
    "3. Create a function that returns `n` terms of the Fibonacci Series. Example output:\n",
    "\n",
    "`fibonacci(10)\n",
    "0\n",
    "1\n",
    "1\n",
    "2\n",
    "3\n",
    "5\n",
    "8\n",
    "13\n",
    "21\n",
    "34`"
   ]
  },
  {
   "cell_type": "markdown",
   "id": "0232b46c",
   "metadata": {},
   "source": [
    "### Indeterminate arguments\n",
    "Used when we are not sure how many arguments will be received by the function. This requires the `arg` parameter"
   ]
  },
  {
   "cell_type": "code",
   "execution_count": 9,
   "id": "8d1f4f88",
   "metadata": {},
   "outputs": [],
   "source": [
    "def indeter_position(*args):\n",
    "    for arg in args:\n",
    "        print (arg)"
   ]
  },
  {
   "cell_type": "code",
   "execution_count": 10,
   "id": "81b501bc",
   "metadata": {},
   "outputs": [
    {
     "name": "stdout",
     "output_type": "stream",
     "text": [
      "5\n",
      "Hello world\n",
      "[1, 2, 3, 4, 5]\n",
      "a\n",
      "4\n",
      "8\n"
     ]
    }
   ],
   "source": [
    "indeter_position(5,\"Hello world\",[1,2,3,4,5],\"a\",4,8)"
   ]
  },
  {
   "cell_type": "markdown",
   "id": "6a67eef9",
   "metadata": {},
   "source": [
    "### By name\n",
    "Using the keyword args or `kwargs`. This operator uses dictionary packing and unpacking to deliver the arguments. These are expected to be value-pairs and should be packed into a dictionary."
   ]
  },
  {
   "cell_type": "code",
   "execution_count": 11,
   "id": "244f38b6",
   "metadata": {},
   "outputs": [],
   "source": [
    "def indet_name(**kwargs):\n",
    "     for kwarg in kwargs:\n",
    "            print (kwarg, \"=>\", kwargs[kwarg])"
   ]
  },
  {
   "cell_type": "code",
   "execution_count": 12,
   "id": "1fa75489",
   "metadata": {},
   "outputs": [
    {
     "name": "stdout",
     "output_type": "stream",
     "text": [
      "n => 5\n",
      "c => Hello\n",
      "l => [1, 2, 3, 4, 5]\n"
     ]
    }
   ],
   "source": [
    "indet_name(n=5, c=\"Hello\", l=[1,2,3,4,5])"
   ]
  },
  {
   "cell_type": "markdown",
   "id": "67acbf80",
   "metadata": {},
   "source": [
    "### Mixing args and kwargs\n",
    "- First regular arguments\n",
    "- Second *args\n",
    "- Third *kwargs\n",
    "\n",
    "You can think of `*args` as a variable length positional argument list and `**kwargs` as a variable-length keyword argument list."
   ]
  },
  {
   "cell_type": "code",
   "execution_count": 14,
   "id": "420e1c60",
   "metadata": {},
   "outputs": [
    {
     "name": "stdout",
     "output_type": "stream",
     "text": [
      "a = 10\n",
      "b = 20\n",
      "args = 1\n",
      "args = 2\n",
      "args = 3\n",
      "args = 4\n",
      "x = Hey\n",
      "y = hello\n",
      "z = there\n"
     ]
    }
   ],
   "source": [
    "def function(a, b, *args, **kwargs):\n",
    "    print(\"a =\", a)\n",
    "    print(\"b =\", b)\n",
    "    for arg in args:\n",
    "        print(\"args =\", arg)\n",
    "    for key, value in kwargs.items():\n",
    "        print(key, \"=\", value)\n",
    "\n",
    "function(10, 20, 1, 2, 3, 4, x=\"Hey\", y=\"hello\", z=\"there\")"
   ]
  },
  {
   "cell_type": "markdown",
   "id": "ba5a77b0",
   "metadata": {},
   "source": [
    "*Tuple unpacking*\n",
    "Using `*` we can extract values from a list or tuple to be used as function arguments"
   ]
  },
  {
   "cell_type": "code",
   "execution_count": null,
   "id": "26c664db",
   "metadata": {},
   "outputs": [],
   "source": [
    "def function(a, b, *args, **kwargs):\n",
    "    print(\"a =\", a)\n",
    "    print(\"b =\", b)\n",
    "    for arg in args:\n",
    "        print(\"args =\", arg)\n",
    "    for key, value in kwargs.items():\n",
    "        print(key, \"=\", value)\n",
    "\n",
    "args = [1, 2, 3, 4]\n",
    "kwargs = {'x':\"Hello\", 'y':\"there\", 'z':\"hi\"}\n",
    "\n",
    "function(10, 20, *args, **kwargs)"
   ]
  },
  {
   "cell_type": "markdown",
   "id": "6a9c3a8f",
   "metadata": {},
   "source": [
    "### Docsstrings\n",
    "A docstring is used to supply documentation for a function. It can contain the function purpuse, arguments, information about return values. The docstring should be a string statement enclosed in triple quotes `\"\"\"`"
   ]
  },
  {
   "cell_type": "code",
   "execution_count": 47,
   "id": "02b8ed37",
   "metadata": {},
   "outputs": [
    {
     "name": "stdout",
     "output_type": "stream",
     "text": [
      "Perform addition of two numbers a and b\n",
      "    \n",
      "    Keyword arguments:\n",
      "    a -- The first number\n",
      "    b -- The second number\n",
      "    \n"
     ]
    }
   ],
   "source": [
    "def sum(a=0, b=1):\n",
    "    \"\"\"Perform addition of two numbers a and b\n",
    "    \n",
    "    Keyword arguments:\n",
    "    a -- The first number\n",
    "    b -- The second number\n",
    "    \"\"\"\n",
    "    return a + b\n",
    "\n",
    "print(sum.__doc__)"
   ]
  },
  {
   "cell_type": "code",
   "execution_count": 49,
   "id": "d929bf9a",
   "metadata": {},
   "outputs": [
    {
     "name": "stdout",
     "output_type": "stream",
     "text": [
      "Help on function sum in module __main__:\n",
      "\n",
      "sum(a=0, b=1)\n",
      "    Perform addition of two numbers a and b\n",
      "    \n",
      "    Keyword arguments:\n",
      "    a -- The first number\n",
      "    b -- The second number\n",
      "\n"
     ]
    }
   ],
   "source": [
    "# alternative docstring\n",
    "help(sum)"
   ]
  },
  {
   "cell_type": "markdown",
   "id": "462c2c9f",
   "metadata": {},
   "source": [
    "### Function annotations\n",
    "As of version 3.0, Python provides an additional feature for documenting a function called a function annotation. Annotations provide a way to attach metadata to a function’s parameters and return value.\n",
    "\n",
    "To add an annotation to a Python function parameter, insert a colon (:) followed by any expression after the parameter name in the function definition. To add an annotation to the return value, add the characters -> and any expression between the closing parenthesis of the parameter list and the colon that terminates the function header. Here’s an example:"
   ]
  },
  {
   "cell_type": "code",
   "execution_count": 50,
   "id": "a5aa57d2",
   "metadata": {},
   "outputs": [],
   "source": [
    "def f(a: '<a>', b: '<b>') -> '<ret_value>':\n",
    "...     pass"
   ]
  },
  {
   "cell_type": "markdown",
   "id": "8bac0bec",
   "metadata": {},
   "source": [
    "The annotation for parameter a is the string `<a>`, for b the string `<b>`, and for the function return value the string '<ret_value>'.\n",
    "\n",
    "The Python interpreter creates a dictionary from the annotations and assigns them to another special dunder attribute of the function called __annotations__. The annotations for the Python function f() shown above can be displayed as follows:"
   ]
  },
  {
   "cell_type": "code",
   "execution_count": 51,
   "id": "2e6c0368",
   "metadata": {},
   "outputs": [
    {
     "data": {
      "text/plain": [
       "{'a': '<a>', 'b': '<b>', 'return': '<ret_value>'}"
      ]
     },
     "execution_count": 51,
     "metadata": {},
     "output_type": "execute_result"
    }
   ],
   "source": [
    "f.__annotations__"
   ]
  },
  {
   "cell_type": "markdown",
   "id": "4e3b7bb2",
   "metadata": {},
   "source": [
    "Note that annotations aren’t restricted to string values. They can be any expression or object. For example, you might annotate with type objects:"
   ]
  },
  {
   "cell_type": "code",
   "execution_count": 53,
   "id": "c4db4276",
   "metadata": {},
   "outputs": [
    {
     "name": "stdout",
     "output_type": "stream",
     "text": [
      "1 foo\n"
     ]
    },
    {
     "data": {
      "text/plain": [
       "{'a': int, 'b': str, 'return': float}"
      ]
     },
     "execution_count": 53,
     "metadata": {},
     "output_type": "execute_result"
    }
   ],
   "source": [
    "def f(a: int, b: str) -> float:\n",
    "    print(a, b)\n",
    "    return(3.5)\n",
    "\n",
    "\n",
    "f(1, 'foo')\n",
    "\n",
    "f.__annotations__"
   ]
  },
  {
   "cell_type": "markdown",
   "id": "903d75a2",
   "metadata": {},
   "source": [
    "An annotation can even be a composite object like a list or a dictionary, so it’s possible to attach multiple items of metadata to the parameters and return value:"
   ]
  },
  {
   "cell_type": "code",
   "execution_count": 55,
   "id": "f5c192fc",
   "metadata": {},
   "outputs": [
    {
     "data": {
      "text/plain": [
       "248.84534390000002"
      ]
     },
     "execution_count": 55,
     "metadata": {},
     "output_type": "execute_result"
    }
   ],
   "source": [
    "def area(\n",
    "...     r: {\n",
    "...            'desc': 'radius of circle',\n",
    "...            'type': float\n",
    "...        }) -> \\\n",
    "...        {\n",
    "...            'desc': 'area of circle',\n",
    "...            'type': float\n",
    "...        }:\n",
    "...     return 3.14159 * (r ** 2)\n",
    "\n",
    "area(8.9)"
   ]
  },
  {
   "cell_type": "code",
   "execution_count": 56,
   "id": "79043d05",
   "metadata": {},
   "outputs": [
    {
     "data": {
      "text/plain": [
       "{'r': {'desc': 'radius of circle', 'type': float},\n",
       " 'return': {'desc': 'area of circle', 'type': float}}"
      ]
     },
     "execution_count": 56,
     "metadata": {},
     "output_type": "execute_result"
    }
   ],
   "source": [
    "area.__annotations__"
   ]
  },
  {
   "cell_type": "code",
   "execution_count": 57,
   "id": "0e046f53",
   "metadata": {},
   "outputs": [
    {
     "data": {
      "text/plain": [
       "'radius of circle'"
      ]
     },
     "execution_count": 57,
     "metadata": {},
     "output_type": "execute_result"
    }
   ],
   "source": [
    "area.__annotations__['r']['desc']"
   ]
  },
  {
   "cell_type": "code",
   "execution_count": 58,
   "id": "958306e9",
   "metadata": {},
   "outputs": [
    {
     "data": {
      "text/plain": [
       "float"
      ]
     },
     "execution_count": 58,
     "metadata": {},
     "output_type": "execute_result"
    }
   ],
   "source": [
    "area.__annotations__['return']['type']"
   ]
  },
  {
   "cell_type": "markdown",
   "id": "f52566a2",
   "metadata": {},
   "source": [
    "Annotations don’t impose any semantic restrictions on the code whatsoever. They’re simply bits of metadata attached to the Python function parameters and return value. Python dutifully stashes them in a dictionary, assigns the dictionary to the function’s __annotations__ dunder attribute, and that’s it. Annotations are completely optional and don’t have any impact on Python function execution at all.\n",
    "\n",
    "Annotations make good documentation. You can specify the same information in the docstring, of course, but placing it directly in the function definition adds clarity. The types of the arguments and the return value are obvious on sight for a function header like this:"
   ]
  },
  {
   "cell_type": "markdown",
   "id": "22e0c8a8",
   "metadata": {},
   "source": [
    "## Exercises for participation credit and final mini project\n",
    "For our final session we will be creating a small Python package that you will publish to PyPi and will be able to share with the world.\n",
    "\n",
    "We need to start thinking of a small but useful package for you. This package, ideally, should be relevant to some work/research/project you are doing. Please define:\n",
    "\n",
    "1. What problem is your package solving? In what context could this be used by you or others?\n",
    "2. What functionality/functionalities does your package has?\n",
    "3. How can you break down the functionality into different functions? Create the stubs (drafts) for this functions. Create a minimum of 3 functions for your package.\n",
    "4. Your functions must be documented. Add docstrings for every function you create.\n",
    "\n",
    "If you come up with a better idea after you have sent your ideas you can always change it, just be mindful of the time it will take you to develop this functions."
   ]
  },
  {
   "cell_type": "code",
   "execution_count": null,
   "id": "37f99e50",
   "metadata": {},
   "outputs": [],
   "source": []
  }
 ],
 "metadata": {
  "kernelspec": {
   "display_name": "Python 3 (ipykernel)",
   "language": "python",
   "name": "python3"
  },
  "language_info": {
   "codemirror_mode": {
    "name": "ipython",
    "version": 3
   },
   "file_extension": ".py",
   "mimetype": "text/x-python",
   "name": "python",
   "nbconvert_exporter": "python",
   "pygments_lexer": "ipython3",
   "version": "3.10.4"
  }
 },
 "nbformat": 4,
 "nbformat_minor": 5
}
